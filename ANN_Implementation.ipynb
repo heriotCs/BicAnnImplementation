{
 "cells": [
  {
   "cell_type": "markdown",
   "id": "1793c819-b5e2-430b-aada-2fd2b6bf04ec",
   "metadata": {},
   "source": [
    "# Task 1 – Artificial Neural Network (ANN) Implementation\n",
    "**Course:** Biologically-Inspired Computation (F20BC)  \n",
    "**Student 1:** Muhammad Saad  \n",
    "**Student 2:** Muhammad Hassan\n",
    "\n",
    "**Objective:**  \n",
    "Implement a configurable multi-layer feed-forward ANN from scratch.  \n",
    "This notebook focuses on the *structure* and *forward propagation* only.  \n",
    "Training will be performed later using Particle Swarm Optimisation (PSO)."
   ]
  },
  {
   "cell_type": "code",
   "execution_count": 1,
   "id": "2477a867-725e-4363-83b7-da0635293c2d",
   "metadata": {},
   "outputs": [],
   "source": [
    "# --- Section 1 : Imports ---\n",
    "import numpy as np\n",
    "from typing import Callable, List\n",
    "# Optional (for visual checks later)\n",
    "#import matplotlib.pyplot as plt"
   ]
  },
  {
   "cell_type": "markdown",
   "id": "e65eab07-4ec2-4468-8524-6aa4f83f863f",
   "metadata": {},
   "source": [
    "## Section 2 – Activation Functions\n",
    "Activation functions introduce non-linearity into the ANN.  \n",
    "The network will support:\n",
    "- Sigmoid  \n",
    "- ReLU  \n",
    "- Tanh  \n",
    "- Linear (for output layer in regression)"
   ]
  },
  {
   "cell_type": "code",
   "execution_count": 2,
   "id": "cf2d232e-f0e0-4074-891f-55acd19e3743",
   "metadata": {},
   "outputs": [],
   "source": [
    "# --- Section 2 : Activation Functions ---\n",
    "\n",
    "def sigmoid(x: np.ndarray) -> np.ndarray:\n",
    "    \"\"\"Numerically-stable sigmoid.\"\"\"\n",
    "    # clip for stability in exp\n",
    "    x_clip = np.clip(x, -500, 500)\n",
    "    return 1.0 / (1.0 + np.exp(-x_clip))\n",
    "\n",
    "def relu(x: np.ndarray) -> np.ndarray:\n",
    "    return np.maximum(0.0, x)\n",
    "\n",
    "def tanh(x: np.ndarray) -> np.ndarray:\n",
    "    # np.tanh is already stable/fast\n",
    "    return np.tanh(x)\n",
    "\n",
    "def linear(x: np.ndarray) -> np.ndarray:\n",
    "    return x\n",
    "\n",
    "# Map names to callables (keeps configuration simple)\n",
    "ACTIVATIONS = {\n",
    "    \"sigmoid\": sigmoid,\n",
    "    \"relu\": relu,\n",
    "    \"tanh\": tanh,\n",
    "    \"linear\": linear,\n",
    "}\n",
    "\n",
    "def get_activation(name: str) -> Callable[[np.ndarray], np.ndarray]:\n",
    "    name = name.lower()\n",
    "    if name not in ACTIVATIONS:\n",
    "        raise ValueError(f\"Unknown activation '{name}'. Choose from {list(ACTIVATIONS.keys())}.\")\n",
    "    return ACTIVATIONS[name]\n",
    "\n",
    "# quick shape test later\n",
    "# print(sigmoid(np.array([-1,0,1])))"
   ]
  },
  {
   "cell_type": "markdown",
   "id": "b4f23a63-bbec-4013-86a6-02f36e071628",
   "metadata": {},
   "source": [
    "## Section 3 – Layer Class\n",
    "Each layer stores its weights, biases, and activation function, and performs the computation   \n",
    "*z = W · x + b ;  a = f(z)*."
   ]
  },
  {
   "cell_type": "code",
   "execution_count": 3,
   "id": "46e43822-a14a-454f-bfbf-48d0be88eb6b",
   "metadata": {},
   "outputs": [],
   "source": [
    "# --- Section 3 : Layer Class ---\n",
    "\n",
    "class Layer:\n",
    "    \"\"\"\n",
    "    A fully-connected (dense) layer:\n",
    "      z = W @ x + b\n",
    "      a = activation(z)\n",
    "    Supports vector input (shape: [in_dim]) and batch input (shape: [batch, in_dim]).\n",
    "    \"\"\"\n",
    "    def __init__(self, input_size: int, output_size: int, activation: str, rng: np.random.Generator | None = None):\n",
    "        self.input_size = input_size\n",
    "        self.output_size = output_size\n",
    "        self.activation_name = activation.lower()\n",
    "        self.activation_fn = get_activation(self.activation_name)\n",
    "        self.rng = rng if rng is not None else np.random.default_rng()\n",
    "\n",
    "        # Weight initialization strategy:\n",
    "        # - He init for ReLU\n",
    "        # - Xavier/Glorot for tanh/sigmoid/linear\n",
    "        if self.activation_name == \"relu\":\n",
    "            # He initialization (Kaiming): N(0, sqrt(2/fan_in))\n",
    "            scale = np.sqrt(2.0 / input_size)\n",
    "        else:\n",
    "            # Xavier/Glorot: N(0, sqrt(1/fan_in))\n",
    "            scale = np.sqrt(1.0 / input_size)\n",
    "\n",
    "        self.W = self.rng.normal(loc=0.0, scale=scale, size=(output_size, input_size)).astype(np.float64)\n",
    "        self.b = np.zeros((output_size,), dtype=np.float64)\n",
    "\n",
    "    def forward(self, x: np.ndarray) -> np.ndarray:\n",
    "        \"\"\"\n",
    "        Forward pass through this layer.\n",
    "        Accepts x with shape [in_dim] or [batch, in_dim].\n",
    "        Returns a with shape [out_dim] or [batch, out_dim].\n",
    "        \"\"\"\n",
    "        # Ensure 2D for unified math, then squeeze back if needed\n",
    "        original_1d = False\n",
    "        if x.ndim == 1:\n",
    "            x = x[np.newaxis, :]   # [1, in_dim]\n",
    "            original_1d = True\n",
    "\n",
    "        # z = x @ W^T + b, but we store W as [out, in], so do x @ W.T\n",
    "        z = x @ self.W.T + self.b  # [batch, out_dim]\n",
    "        a = self.activation_fn(z)\n",
    "\n",
    "        return a.squeeze(0) if original_1d else a\n",
    "\n",
    "    def __repr__(self) -> str:\n",
    "        return f\"Layer(in={self.input_size}, out={self.output_size}, act='{self.activation_name}')\"\n",
    "\n",
    "# --- Test example ---\n",
    "# layer = Layer(8, 10, 'relu')\n",
    "# output = layer.forward(np.random.rand(8))\n",
    "# print(output.shape)"
   ]
  },
  {
   "cell_type": "markdown",
   "id": "b6ade2e4-ceac-4d18-95db-dcbaf4479b6c",
   "metadata": {},
   "source": [
    "## Section 4 – Neural Network Class\n",
    "The network connects multiple layers and performs forward propagation through them."
   ]
  },
  {
   "cell_type": "code",
   "execution_count": 4,
   "id": "1008967d-4cf5-4af0-98ec-7f817fbd44c7",
   "metadata": {},
   "outputs": [],
   "source": [
    "# --- Section 4 : Neural Network Class ---\n",
    "\n",
    "class NeuralNetwork:\n",
    "    \"\"\"\n",
    "    A configurable feed-forward network composed of Layer objects.\n",
    "\n",
    "    Example:\n",
    "        architecture = [8, 10, 1]\n",
    "        activations  = ['relu', 'linear']\n",
    "    \"\"\"\n",
    "    def __init__(self, architecture: List[int], activations: List[str], seed: int | None = None):\n",
    "        if len(architecture) < 2:\n",
    "            raise ValueError(\"Architecture must have at least input and output sizes, e.g. [8, 1].\")\n",
    "        if len(activations) != len(architecture) - 1:\n",
    "            raise ValueError(\n",
    "                f\"Need one activation per layer except input. \"\n",
    "                f\"Got {len(activations)} activations for {len(architecture)-1} layers.\"\n",
    "            )\n",
    "\n",
    "        self.architecture = architecture\n",
    "        self.activations = [a.lower() for a in activations]\n",
    "        self.rng = np.random.default_rng(seed)\n",
    "\n",
    "        # Build layers\n",
    "        self.layers: List[Layer] = []\n",
    "        for in_size, out_size, act in zip(architecture[:-1], architecture[1:], self.activations):\n",
    "            self.layers.append(Layer(in_size, out_size, act, rng=self.rng))\n",
    "\n",
    "    def forward(self, x: np.ndarray) -> np.ndarray:\n",
    "        \"\"\"\n",
    "        Pass input through all layers.\n",
    "        Accepts x shape [in_dim] or [batch, in_dim].\n",
    "        Returns prediction with shape [out_dim] or [batch, out_dim].\n",
    "        \"\"\"\n",
    "        out = x\n",
    "        for layer in self.layers:\n",
    "            out = layer.forward(out)\n",
    "        return out\n",
    "\n",
    "    # (Optional) convenience alias\n",
    "    __call__ = forward\n",
    "\n",
    "    def summary(self) -> None:\n",
    "        \"\"\"Print a concise model summary.\"\"\"\n",
    "        print(\"NeuralNetwork Summary\")\n",
    "        for idx, layer in enumerate(self.layers, start=1):\n",
    "            print(f\"  Layer {idx}: {layer}\")\n",
    "        print(f\"Total layers (excluding input): {len(self.layers)}\")\n",
    "\n",
    "# --- Test example ---\n",
    "# architecture = [8, 10, 1]\n",
    "# activations  = ['relu', 'linear']\n",
    "# nn = NeuralNetwork(architecture, activations)\n",
    "# print(nn.forward(np.random.rand(8)))"
   ]
  },
  {
   "cell_type": "markdown",
   "id": "45c7453c-9d46-4eab-8db9-4f201e4f04a5",
   "metadata": {},
   "source": [
    "## Section 5 – Configuration Flexibility\n",
    "Demonstrate that the implementation can handle different architectures and activation combinations."
   ]
  },
  {
   "cell_type": "code",
   "execution_count": 5,
   "id": "92cbec35-d696-41b6-a7ca-6514fb90f997",
   "metadata": {},
   "outputs": [
    {
     "name": "stdout",
     "output_type": "stream",
     "text": [
      "NeuralNetwork Summary\n",
      "  Layer 1: Layer(in=8, out=10, act='relu')\n",
      "  Layer 2: Layer(in=10, out=1, act='linear')\n",
      "Total layers (excluding input): 2\n",
      "\n",
      "Single-sample output: [-0.01941725]  | shape: (1,)\n",
      "Batch output shape: (5, 1)\n"
     ]
    }
   ],
   "source": [
    "# --- Section 5 : Quick tests ---\n",
    "\n",
    "# Baseline architecture for regression on Concrete dataset: 8 -> 10 -> 1\n",
    "architecture = [8, 10, 1]\n",
    "activations  = ['relu', 'linear']  # linear output for regression\n",
    "\n",
    "nn = NeuralNetwork(architecture, activations, seed=42)\n",
    "nn.summary()\n",
    "\n",
    "# Single sample (vector) test\n",
    "x_single = np.random.default_rng(0).random(8)  # shape [8]\n",
    "y_single = nn.forward(x_single)\n",
    "print(\"\\nSingle-sample output:\", y_single, \" | shape:\", np.shape(y_single))\n",
    "\n",
    "# Batch test\n",
    "x_batch = np.random.default_rng(1).random((5, 8))  # 5 samples, each with 8 features\n",
    "y_batch = nn.forward(x_batch)\n",
    "print(\"Batch output shape:\", y_batch.shape)  # expect (5, 1)"
   ]
  },
  {
   "cell_type": "markdown",
   "id": "21919b18-9bf7-49b1-a736-95e6e254084b",
   "metadata": {},
   "source": [
    "## Section 6 – Testing and Verification\n",
    "Use random inputs to verify forward propagation and output shape."
   ]
  },
  {
   "cell_type": "code",
   "execution_count": 6,
   "id": "1b4769ad-6a14-4aa6-8d37-1b3829e1ee31",
   "metadata": {},
   "outputs": [
    {
     "name": "stdout",
     "output_type": "stream",
     "text": [
      "NeuralNetwork Summary\n",
      "  Layer 1: Layer(in=8, out=20, act='tanh')\n",
      "  Layer 2: Layer(in=20, out=10, act='relu')\n",
      "  Layer 3: Layer(in=10, out=1, act='linear')\n",
      "Total layers (excluding input): 3\n",
      "\n",
      "Alt-arch single output: [-0.46777979]  | shape: (1,)\n"
     ]
    }
   ],
   "source": [
    "# --- Section 6 : Config flexibility test ---\n",
    "\n",
    "arch2 = [8, 20, 10, 1]\n",
    "acts2 = ['tanh', 'relu', 'linear']\n",
    "\n",
    "nn2 = NeuralNetwork(arch2, acts2, seed=7)\n",
    "nn2.summary()\n",
    "\n",
    "x2 = np.random.default_rng(7).random(8)\n",
    "y2 = nn2.forward(x2)\n",
    "print(\"\\nAlt-arch single output:\", y2, \" | shape:\", np.shape(y2))"
   ]
  },
  {
   "cell_type": "code",
   "execution_count": null,
   "id": "a898543d-f75c-4419-bfae-cd448d81ad05",
   "metadata": {},
   "outputs": [],
   "source": []
  },
  {
   "cell_type": "markdown",
   "id": "781bfe72-93cc-42db-918b-c95b4ac06e98",
   "metadata": {},
   "source": [
    "## Section 7 – Load and Split Dataset\n",
    "- Split the data into train and test 70% and 30%"
   ]
  },
  {
   "cell_type": "code",
   "execution_count": 27,
   "id": "c1af58c6-6101-4fef-a914-c005d7294534",
   "metadata": {},
   "outputs": [
    {
     "name": "stdout",
     "output_type": "stream",
     "text": [
      "✅ Dataset loaded and split\n",
      "Training shape: (721, 8)\n",
      "Testing shape: (309, 8)\n",
      "💾 Preprocessed datasets saved:\n"
     ]
    }
   ],
   "source": [
    "# --- Section 7 : Load and Split Dataset ---\n",
    "import pandas as pd\n",
    "from sklearn.model_selection import train_test_split\n",
    "from sklearn.preprocessing import StandardScaler\n",
    "\n",
    "# Load dataset\n",
    "df = pd.read_excel(\"Concrete_Data.xls\")\n",
    "\n",
    "# Split into inputs (X) and outputs (y)\n",
    "X = df.iloc[:, :-1].values   # 8 input features\n",
    "y = df.iloc[:, -1].values    # target column (strength)\n",
    "\n",
    "# Split: 70% training, 30% testing\n",
    "X_train, X_test, y_train, y_test = train_test_split(X, y, test_size=0.3, random_state=42)\n",
    "\n",
    "# Standardise inputs\n",
    "scaler = StandardScaler()\n",
    "X_train = scaler.fit_transform(X_train)\n",
    "X_test = scaler.transform(X_test)\n",
    "\n",
    "print(\"✅ Dataset loaded and split\")\n",
    "print(\"Training shape:\", X_train.shape)\n",
    "print(\"Testing shape:\", X_test.shape)\n",
    "\n",
    "# --- Export preprocessed datasets ---\n",
    "train_df = pd.DataFrame(X_train, columns=df.columns[:-1])\n",
    "train_df[\"Strength\"] = y_train\n",
    "\n",
    "test_df = pd.DataFrame(X_test, columns=df.columns[:-1])\n",
    "test_df[\"Strength\"] = y_test\n",
    "\n",
    "# Save preprocessed files directly in the data directory\n",
    "train_df.to_csv(\"concrete_train.csv\", index=False)\n",
    "test_df.to_csv(\"concrete_test.csv\", index=False)\n",
    "\n",
    "print(\"💾 Preprocessed datasets saved:\")"
   ]
  },
  {
   "cell_type": "markdown",
   "id": "8428fa99-38b6-49d8-b4dc-4d9cbd10a157",
   "metadata": {},
   "source": [
    "## Section 8: Initialise Neural Network"
   ]
  },
  {
   "cell_type": "code",
   "execution_count": 8,
   "id": "c2087bf9-5a87-49e6-951c-a980b6a08501",
   "metadata": {},
   "outputs": [
    {
     "name": "stdout",
     "output_type": "stream",
     "text": [
      "✅ ANN created for dataset\n",
      "NeuralNetwork Summary\n",
      "  Layer 1: Layer(in=8, out=10, act='relu')\n",
      "  Layer 2: Layer(in=10, out=1, act='linear')\n",
      "Total layers (excluding input): 2\n"
     ]
    }
   ],
   "source": [
    "# --- Section 8 : Initialise Neural Network ---\n",
    "architecture = [8, 10, 1]\n",
    "activations  = ['relu', 'linear']\n",
    "\n",
    "nn = NeuralNetwork(architecture, activations, seed=42)\n",
    "\n",
    "print(\"✅ ANN created for dataset\")\n",
    "nn.summary()"
   ]
  },
  {
   "cell_type": "markdown",
   "id": "e11bc2d4-7e95-4c34-83e1-cabb02a1f6e4",
   "metadata": {},
   "source": [
    "## Section 9: Forward Pass"
   ]
  },
  {
   "cell_type": "code",
   "execution_count": 12,
   "id": "18793277-65d1-44e8-b2de-51baf4f752cd",
   "metadata": {},
   "outputs": [
    {
     "name": "stdout",
     "output_type": "stream",
     "text": [
      "✅ Forward pass complete\n",
      "Training predictions shape: (721, 1)\n",
      "Testing predictions shape : (309, 1)\n",
      "Sample predictions (first 5): [-1.03845248  0.40650872  0.55430624  0.41098399 -0.99159199]\n"
     ]
    }
   ],
   "source": [
    "# --- Section 9 : Forward Pass (Generate Predictions) ---\n",
    "import numpy as np\n",
    "\n",
    "# Perform forward pass on both training and testing sets\n",
    "y_pred_train = np.array([nn.forward(x) for x in X_train])\n",
    "y_pred_test  = np.array([nn.forward(x) for x in X_test])\n",
    "\n",
    "print(\"✅ Forward pass complete\")\n",
    "print(\"Training predictions shape:\", y_pred_train.shape)\n",
    "print(\"Testing predictions shape :\", y_pred_test.shape)\n",
    "print(\"Sample predictions (first 5):\", y_pred_test[:5].flatten())"
   ]
  },
  {
   "cell_type": "markdown",
   "id": "afecd5dc-c4e1-4d60-8705-039205355510",
   "metadata": {},
   "source": [
    "## Section 10: Evaluate ANN Performance"
   ]
  },
  {
   "cell_type": "code",
   "execution_count": 13,
   "id": "e3c9c665-cf84-4b94-bc0e-eda44cb2ac69",
   "metadata": {},
   "outputs": [
    {
     "name": "stdout",
     "output_type": "stream",
     "text": [
      "\n",
      "📊 Evaluation Metrics (Untrained ANN):\n",
      "MAE  : 35.261\n",
      "RMSE : 38.885\n",
      "R²   : -4.588\n"
     ]
    }
   ],
   "source": [
    "# --- Section 10 : Evaluate ANN Performance (Untrained) ---\n",
    "from sklearn.metrics import mean_absolute_error, mean_squared_error, r2_score\n",
    "import numpy as np\n",
    "\n",
    "# Make sure predictions exist\n",
    "# If you already ran the forward pass, you should have these:\n",
    "# y_pred_train and y_pred_test\n",
    "\n",
    "# Use y_pred_test for evaluation against y_test\n",
    "mae = mean_absolute_error(y_test, y_pred_test)\n",
    "rmse = np.sqrt(mean_squared_error(y_test, y_pred_test))\n",
    "r2 = r2_score(y_test, y_pred_test)\n",
    "\n",
    "print(\"\\n📊 Evaluation Metrics (Untrained ANN):\")\n",
    "print(f\"MAE  : {mae:.3f}\")\n",
    "print(f\"RMSE : {rmse:.3f}\")\n",
    "print(f\"R²   : {r2:.3f}\")"
   ]
  },
  {
   "cell_type": "markdown",
   "id": "052a9b11-51ea-432f-9201-2de77dcda062",
   "metadata": {},
   "source": [
    "## Visulaise Predictions"
   ]
  },
  {
   "cell_type": "code",
   "execution_count": 23,
   "id": "ebdc6a26-d691-458c-92cb-75e88e3b2f7b",
   "metadata": {},
   "outputs": [
    {
     "data": {
      "image/png": "[encoded data removed]",
      "text/plain": [
       "<Figure size 640x480 with 1 Axes>"
      ]
     },
     "metadata": {},
     "output_type": "display_data"
    }
   ],
   "source": [
    "# Scatter: Predicted vs Actual\n",
    "\n",
    "import matplotlib.pyplot as plt\n",
    "plt.scatter(y_test, y_pred_test, alpha=0.7)\n",
    "plt.plot([y_test.min(), y_test.max()], [y_test.min(), y_test.max()], 'r--')\n",
    "plt.xlabel(\"Actual Strength\")\n",
    "plt.ylabel(\"Predicted Strength\")\n",
    "plt.title(\"Predicted vs Actual Concrete Strength\")\n",
    "plt.show()"
   ]
  },
  {
   "cell_type": "code",
   "execution_count": 26,
   "id": "468791c6-4851-42e8-8a1b-410ea6b5420e",
   "metadata": {},
   "outputs": [
    {
     "data": {
      "image/png": "[encoded data removed]",
      "text/plain": [
       "<Figure size 640x480 with 1 Axes>"
      ]
     },
     "metadata": {},
     "output_type": "display_data"
    }
   ],
   "source": [
    "# Histogram: Prediction errors\n",
    "residuals = y_test - y_pred_test\n",
    "plt.hist(residuals, bins=20)\n",
    "plt.title(\"Distribution of Prediction Errors\")\n",
    "plt.xlabel(\"Error (MPa)\")\n",
    "plt.ylabel(\"Frequency\")\n",
    "plt.show()"
   ]
  }
 ],
 "metadata": {
  "kernelspec": {
   "display_name": "Python 3 (ipykernel)",
   "language": "python",
   "name": "python3"
  },
  "language_info": {
   "codemirror_mode": {
    "name": "ipython",
    "version": 3
   },
   "file_extension": ".py",
   "mimetype": "text/x-python",
   "name": "python",
   "nbconvert_exporter": "python",
   "pygments_lexer": "ipython3",
   "version": "3.13.7"
  }
 },
 "nbformat": 4,
 "nbformat_minor": 5
}
